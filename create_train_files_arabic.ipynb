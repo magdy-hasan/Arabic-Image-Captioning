{
 "cells": [
  {
   "cell_type": "code",
   "execution_count": 3,
   "metadata": {
    "collapsed": false
   },
   "outputs": [],
   "source": [
    "import pandas as pd\n",
    "from keras.preprocessing.text import Tokenizer\n",
    "from keras.preprocessing.sequence import pad_sequences\n",
    "from keras.utils import to_categorical\n",
    "import numpy as np\n",
    "import pickle"
   ]
  },
  {
   "cell_type": "code",
   "execution_count": 4,
   "metadata": {
    "collapsed": false
   },
   "outputs": [],
   "source": [
    "desc = pickle.load(open('pre_desc.pkl','rb'))"
   ]
  },
  {
   "cell_type": "code",
   "execution_count": 10,
   "metadata": {
    "collapsed": true
   },
   "outputs": [],
   "source": [
    "features = pickle.load(open('features.pkl','rb'))"
   ]
  },
  {
   "cell_type": "code",
   "execution_count": 12,
   "metadata": {
    "collapsed": true
   },
   "outputs": [],
   "source": [
    "tok,index_word = pickle.load(open('tok.pkl','rb')) "
   ]
  },
  {
   "cell_type": "code",
   "execution_count": 31,
   "metadata": {
    "collapsed": false
   },
   "outputs": [],
   "source": [
    "X1, X2, Y = [],[],[]\n",
    "cnt = 0\n",
    "for img_id in desc.keys():\n",
    "    for des in desc[img_id]:\n",
    "        if img_id not in features:\n",
    "            continue\n",
    "        seq = tok.texts_to_sequences([des])[0]\n",
    "        for j in range(1,len(seq)):\n",
    "            in_seq, out_seq = seq[:j], seq[j]\n",
    "            in_seq = pad_sequences([in_seq], maxlen=120)[0]\n",
    "            out_seq = to_categorical([out_seq], num_classes=512)[0]\n",
    "            X1.append(features[img_id])\n",
    "            X2.append(in_seq)\n",
    "            Y.append(out_seq)\n",
    "            if len(X1) >= 128:\n",
    "                cnt += 1\n",
    "                x1 = np.array(X1)\n",
    "                x2 = np.array(X2)\n",
    "                y = np.array(Y)\n",
    "                pickle.dump([x1, x2, y], open(('D:\\\\trainfiles\\\\train.'+str(cnt)+'.pkl'),'wb'))\n",
    "                del X1, X2, Y, x1, x2, y\n",
    "                X1, X2, Y = [],[],[]"
   ]
  },
  {
   "cell_type": "code",
   "execution_count": null,
   "metadata": {
    "collapsed": true
   },
   "outputs": [],
   "source": []
  }
 ],
 "metadata": {
  "kernelspec": {
   "display_name": "dog-project",
   "language": "python",
   "name": "dog-project"
  },
  "language_info": {
   "codemirror_mode": {
    "name": "ipython",
    "version": 3
   },
   "file_extension": ".py",
   "mimetype": "text/x-python",
   "name": "python",
   "nbconvert_exporter": "python",
   "pygments_lexer": "ipython3",
   "version": "3.5.3"
  }
 },
 "nbformat": 4,
 "nbformat_minor": 2
}
